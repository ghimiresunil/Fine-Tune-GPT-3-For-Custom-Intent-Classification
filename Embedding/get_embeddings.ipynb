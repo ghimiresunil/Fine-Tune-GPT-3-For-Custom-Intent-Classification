{
 "cells": [
  {
   "cell_type": "markdown",
   "id": "4d578ed7",
   "metadata": {},
   "source": [
    "## Get Embeddings\n",
    "\n",
    "The function `get_embeddings` will give embeddings for an input_text"
   ]
  },
  {
   "cell_type": "markdown",
   "id": "b981accb",
   "metadata": {},
   "source": [
    "### Install OpenAI"
   ]
  },
  {
   "cell_type": "code",
   "execution_count": 1,
   "id": "d56d4640",
   "metadata": {},
   "outputs": [
    {
     "name": "stdout",
     "output_type": "stream",
     "text": [
      "Requirement already satisfied: openai in /home/fm-pc-lt-227/Documents/Personal/open_ai/OpenAI-Quickstart/venv_openai/lib/python3.9/site-packages (0.26.1)\r\n",
      "Requirement already satisfied: tqdm in /home/fm-pc-lt-227/Documents/Personal/open_ai/OpenAI-Quickstart/venv_openai/lib/python3.9/site-packages (from openai) (4.64.1)\r\n",
      "Requirement already satisfied: requests>=2.20 in /home/fm-pc-lt-227/Documents/Personal/open_ai/OpenAI-Quickstart/venv_openai/lib/python3.9/site-packages (from openai) (2.28.2)\r\n",
      "Requirement already satisfied: aiohttp in /home/fm-pc-lt-227/Documents/Personal/open_ai/OpenAI-Quickstart/venv_openai/lib/python3.9/site-packages (from openai) (3.8.3)\r\n",
      "Requirement already satisfied: urllib3<1.27,>=1.21.1 in /home/fm-pc-lt-227/Documents/Personal/open_ai/OpenAI-Quickstart/venv_openai/lib/python3.9/site-packages (from requests>=2.20->openai) (1.26.14)\r\n",
      "Requirement already satisfied: certifi>=2017.4.17 in /home/fm-pc-lt-227/Documents/Personal/open_ai/OpenAI-Quickstart/venv_openai/lib/python3.9/site-packages (from requests>=2.20->openai) (2022.12.7)\r\n",
      "Requirement already satisfied: idna<4,>=2.5 in /home/fm-pc-lt-227/Documents/Personal/open_ai/OpenAI-Quickstart/venv_openai/lib/python3.9/site-packages (from requests>=2.20->openai) (3.4)\r\n",
      "Requirement already satisfied: charset-normalizer<4,>=2 in /home/fm-pc-lt-227/Documents/Personal/open_ai/OpenAI-Quickstart/venv_openai/lib/python3.9/site-packages (from requests>=2.20->openai) (2.1.1)\r\n",
      "Requirement already satisfied: async-timeout<5.0,>=4.0.0a3 in /home/fm-pc-lt-227/Documents/Personal/open_ai/OpenAI-Quickstart/venv_openai/lib/python3.9/site-packages (from aiohttp->openai) (4.0.2)\r\n",
      "Requirement already satisfied: yarl<2.0,>=1.0 in /home/fm-pc-lt-227/Documents/Personal/open_ai/OpenAI-Quickstart/venv_openai/lib/python3.9/site-packages (from aiohttp->openai) (1.8.2)\r\n",
      "Requirement already satisfied: frozenlist>=1.1.1 in /home/fm-pc-lt-227/Documents/Personal/open_ai/OpenAI-Quickstart/venv_openai/lib/python3.9/site-packages (from aiohttp->openai) (1.3.3)\r\n",
      "Requirement already satisfied: attrs>=17.3.0 in /home/fm-pc-lt-227/Documents/Personal/open_ai/OpenAI-Quickstart/venv_openai/lib/python3.9/site-packages (from aiohttp->openai) (22.2.0)\r\n",
      "Requirement already satisfied: multidict<7.0,>=4.5 in /home/fm-pc-lt-227/Documents/Personal/open_ai/OpenAI-Quickstart/venv_openai/lib/python3.9/site-packages (from aiohttp->openai) (6.0.4)\r\n",
      "Requirement already satisfied: aiosignal>=1.1.2 in /home/fm-pc-lt-227/Documents/Personal/open_ai/OpenAI-Quickstart/venv_openai/lib/python3.9/site-packages (from aiohttp->openai) (1.3.1)\r\n"
     ]
    }
   ],
   "source": [
    "! pip install openai"
   ]
  },
  {
   "cell_type": "markdown",
   "id": "f629f05f",
   "metadata": {},
   "source": [
    "### Import Necessary libraries"
   ]
  },
  {
   "cell_type": "code",
   "execution_count": 10,
   "id": "976050d8",
   "metadata": {},
   "outputs": [
    {
     "data": {
      "text/plain": [
       "True"
      ]
     },
     "execution_count": 10,
     "metadata": {},
     "output_type": "execute_result"
    }
   ],
   "source": [
    "import os\n",
    "import numpy as np \n",
    "import openai\n",
    "from tenacity import retry, wait_random_exponential, stop_after_attempt\n",
    "from dotenv import load_dotenv\n",
    "\n",
    "load_dotenv()"
   ]
  },
  {
   "cell_type": "markdown",
   "id": "366dbe69",
   "metadata": {},
   "source": [
    "## Embeddings API endpoint"
   ]
  },
  {
   "cell_type": "code",
   "execution_count": 3,
   "id": "f90c62d5",
   "metadata": {},
   "outputs": [],
   "source": [
    "# if you have OpenAI API key as an environment variable, enable the below\n",
    "openai.api_key = os.getenv(\"openai_api_key\")\n",
    "\n",
    "# if you have OpenAI API key as a string, enable the below\n",
    "# openai.api_key = \"https://beta.openai.com/account/api-keys\""
   ]
  },
  {
   "cell_type": "code",
   "execution_count": 4,
   "id": "b96930c5",
   "metadata": {},
   "outputs": [],
   "source": [
    "input = \"I am Sunil Ghimire. You can call me Sunil\"\n",
    "model = \"text-embedding-ada-002\""
   ]
  },
  {
   "cell_type": "code",
   "execution_count": 5,
   "id": "6e4083ce",
   "metadata": {},
   "outputs": [],
   "source": [
    "response = openai.Embedding.create(\n",
    "            input = input,\n",
    "            model = model\n",
    "            )"
   ]
  },
  {
   "cell_type": "code",
   "execution_count": 6,
   "id": "ee4578ca",
   "metadata": {},
   "outputs": [],
   "source": [
    "embeddings = response['data'][0]['embedding']"
   ]
  },
  {
   "cell_type": "code",
   "execution_count": 7,
   "id": "c01a5050",
   "metadata": {},
   "outputs": [
    {
     "data": {
      "text/plain": [
       "1536"
      ]
     },
     "execution_count": 7,
     "metadata": {},
     "output_type": "execute_result"
    }
   ],
   "source": [
    "len(embeddings)"
   ]
  },
  {
   "cell_type": "markdown",
   "id": "2d2531ef",
   "metadata": {},
   "source": [
    "## Custom function to get Embeddings"
   ]
  },
  {
   "cell_type": "code",
   "execution_count": 8,
   "id": "148e42dd",
   "metadata": {},
   "outputs": [],
   "source": [
    "@retry(wait=wait_random_exponential(min=1, max=20), stop=stop_after_attempt(6))\n",
    "\n",
    "def get_embedding(text: str, model=\"text-embedding-ada-002\") -> list[float]:\n",
    "    response = openai.Embedding.create(input=[text], model=model)\n",
    "    embedding = response[\"data\"][0][\"embedding\"]\n",
    "    return embedding"
   ]
  },
  {
   "cell_type": "code",
   "execution_count": 9,
   "id": "3e34f7ff",
   "metadata": {},
   "outputs": [
    {
     "name": "stdout",
     "output_type": "stream",
     "text": [
      "1536\n"
     ]
    }
   ],
   "source": [
    "embedding = get_embedding(\"I am Sunil Ghimire. You can call me Sunil\", model=\"text-embedding-ada-002\")\n",
    "print(len(embedding))"
   ]
  },
  {
   "cell_type": "code",
   "execution_count": 29,
   "id": "c853f8d1",
   "metadata": {},
   "outputs": [],
   "source": [
    "## text \n",
    "\n",
    "sample_text_1 =  \"machine learning engineer\"\n",
    "sample_text_2 = \"what is\"\n"
   ]
  },
  {
   "cell_type": "code",
   "execution_count": 30,
   "id": "4575ee18",
   "metadata": {},
   "outputs": [],
   "source": [
    "embedding_1 = get_embedding(sample_text_1, model = \"text-embedding-ada-002\")\n",
    "embedding_2 = get_embedding(sample_text_2, model = \"text-embedding-ada-002\")"
   ]
  },
  {
   "cell_type": "code",
   "execution_count": 31,
   "id": "36a7f561",
   "metadata": {},
   "outputs": [],
   "source": [
    "similarities = np.dot(embedding_1, embedding_2)"
   ]
  },
  {
   "cell_type": "code",
   "execution_count": 32,
   "id": "74f8819e",
   "metadata": {},
   "outputs": [
    {
     "data": {
      "text/plain": [
       "0.716431539582542"
      ]
     },
     "execution_count": 32,
     "metadata": {},
     "output_type": "execute_result"
    }
   ],
   "source": [
    "similarities"
   ]
  },
  {
   "cell_type": "code",
   "execution_count": null,
   "id": "64f8fdbe",
   "metadata": {},
   "outputs": [],
   "source": []
  }
 ],
 "metadata": {
  "kernelspec": {
   "display_name": "Python 3 (ipykernel)",
   "language": "python",
   "name": "python3"
  },
  "language_info": {
   "codemirror_mode": {
    "name": "ipython",
    "version": 3
   },
   "file_extension": ".py",
   "mimetype": "text/x-python",
   "name": "python",
   "nbconvert_exporter": "python",
   "pygments_lexer": "ipython3",
   "version": "3.9.12"
  }
 },
 "nbformat": 4,
 "nbformat_minor": 5
}
